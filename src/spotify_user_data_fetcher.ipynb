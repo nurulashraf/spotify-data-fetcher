{
  "nbformat": 4,
  "nbformat_minor": 0,
  "metadata": {
    "colab": {
      "provenance": [],
      "authorship_tag": "ABX9TyMb4VkJ7tVmXolEb8E6fHZG",
      "include_colab_link": true
    },
    "kernelspec": {
      "name": "python3",
      "display_name": "Python 3"
    },
    "language_info": {
      "name": "python"
    }
  },
  "cells": [
    {
      "cell_type": "markdown",
      "metadata": {
        "id": "view-in-github",
        "colab_type": "text"
      },
      "source": [
        "<a href=\"https://colab.research.google.com/github/nurulashraf/spotify-user-library/blob/main/spotify_user_data_retrieval.ipynb\" target=\"_parent\"><img src=\"https://colab.research.google.com/assets/colab-badge.svg\" alt=\"Open In Colab\"/></a>"
      ]
    },
    {
      "cell_type": "code",
      "execution_count": null,
      "metadata": {
        "id": "pP7hX9-nBkx5"
      },
      "outputs": [],
      "source": [
        "import webbrowser\n",
        "\n",
        "# Set your Spotify API credentials\n",
        "client_id = '##############' # Replace with your client id\n",
        "client_secret = '##########' # Replace with your client secret\n",
        "redirect_uri = '###########' # Replace with your redirect_uri\n",
        "scopes = 'user-library-read user-top-read user-read-playback-state'\n",
        "\n",
        "auth_url = (\n",
        "    f\"https://accounts.spotify.com/authorize\"\n",
        "    f\"?client_id={client_id}\"\n",
        "    f\"&response_type=code\"\n",
        "    f\"&redirect_uri={redirect_uri}\"\n",
        "    f\"&scope={scopes}\"\n",
        ")\n",
        "\n",
        "print(auth_url)\n",
        "webbrowser.open(auth_url)"
      ]
    },
    {
      "cell_type": "code",
      "source": [
        "import requests\n",
        "import base64\n",
        "\n",
        "# Set your Spotify API credentials\n",
        "client_id = '##############' # Replace with your client id\n",
        "client_secret = '##########' # Replace with your client secret\n",
        "redirect_uri = '###########' # Replace with your redirect_uri\n",
        "auth_code = '##############' # Replace with the code you retrieved from the URL\n",
        "\n",
        "# Encode the client ID and client secret\n",
        "auth_str = f\"{client_id}:{client_secret}\"\n",
        "auth_bytes = auth_str.encode('utf-8')\n",
        "auth_base64 = base64.b64encode(auth_bytes).decode('utf-8')\n",
        "\n",
        "# Exchange code for token\n",
        "auth_url = 'https://accounts.spotify.com/api/token'\n",
        "headers = {\n",
        "    'Authorization': 'Basic ' + auth_base64,\n",
        "    'Content-Type': 'application/x-www-form-urlencoded'\n",
        "}\n",
        "data = {\n",
        "    'grant_type': 'authorization_code',\n",
        "    'code': auth_code,\n",
        "    'redirect_uri': redirect_uri\n",
        "}\n",
        "\n",
        "response = requests.post(auth_url, headers=headers, data=data)\n",
        "tokens = response.json()\n",
        "access_token = tokens['access_token']\n",
        "\n",
        "# Function to get saved albums\n",
        "def get_saved_albums():\n",
        "    endpoint = 'https://api.spotify.com/v1/me/albums'\n",
        "    headers = {\n",
        "        'Authorization': f'Bearer {access_token}'\n",
        "    }\n",
        "\n",
        "    response = requests.get(endpoint, headers=headers)\n",
        "    return response.json()\n",
        "\n",
        "# Function to get liked songs\n",
        "def get_liked_songs():\n",
        "    endpoint = 'https://api.spotify.com/v1/me/tracks'\n",
        "    headers = {\n",
        "        'Authorization': f'Bearer {access_token}'\n",
        "    }\n",
        "\n",
        "    response = requests.get(endpoint, headers=headers)\n",
        "    return response.json()\n",
        "\n",
        "# Function to get playlists\n",
        "def get_playlists():\n",
        "    endpoint = 'https://api.spotify.com/v1/me/playlists'\n",
        "    headers = {\n",
        "        'Authorization': f'Bearer {access_token}'\n",
        "    }\n",
        "\n",
        "    response = requests.get(endpoint, headers=headers)\n",
        "    return response.json()\n",
        "\n",
        "# Fetch and display user data\n",
        "saved_albums = get_saved_albums()\n",
        "print(\"User's Saved Albums:\")\n",
        "for album in saved_albums['items']:\n",
        "    print(f\" - {album['album']['name']} by {', '.join(artist['name'] for artist in album['album']['artists'])}\")\n",
        "\n",
        "liked_songs = get_liked_songs()\n",
        "print(\"\\nUser's Liked Songs:\")\n",
        "for song in liked_songs['items']:\n",
        "    print(f\" - {song['track']['name']} by {', '.join(artist['name'] for artist in song['track']['artists'])}\")\n",
        "\n",
        "playlists = get_playlists()\n",
        "print(\"\\nUser's Playlists:\")\n",
        "for playlist in playlists['items']:\n",
        "    print(f\" - {playlist['name']} (ID: {playlist['id']})\")"
      ],
      "metadata": {
        "id": "Z_NLngPuCP9A"
      },
      "execution_count": null,
      "outputs": []
    }
  ]
}
